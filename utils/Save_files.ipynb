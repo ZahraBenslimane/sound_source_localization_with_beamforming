{
 "cells": [
  {
   "cell_type": "code",
   "execution_count": 1,
   "id": "75977100",
   "metadata": {},
   "outputs": [],
   "source": [
    "# All required import\n",
    "import matplotlib.pyplot as plt\n",
    "import ipywidgets as widgets\n",
    "import numpy as np\n",
    "from client import array\n",
    "import time\n",
    "%matplotlib notebook"
   ]
  },
  {
   "cell_type": "code",
   "execution_count": 2,
   "id": "83ace881",
   "metadata": {},
   "outputs": [
    {
     "data": {
      "application/vnd.jupyter.widget-view+json": {
       "model_id": "bad5d2b69c49433d8fcd23bf885de698",
       "version_major": 2,
       "version_minor": 0
      },
      "text/plain": [
       "VBox(children=(HBox(children=(FileChooser(path='C:\\Users\\zahra\\Documents\\M2 ISI\\Advaced Speech and audio signa…"
      ]
     },
     "metadata": {},
     "output_type": "display_data"
    }
   ],
   "source": [
    "# TO BE COMPLETED\n",
    "antenne=array('play')   # When playing recorded files"
   ]
  },
  {
   "cell_type": "code",
   "execution_count": 5,
   "id": "dce65b5e",
   "metadata": {},
   "outputs": [],
   "source": [
    "# Load acquisition and array parameters from the antenne variable, after launching acquisition or play\n",
    "Fs = antenne.fs\n",
    "BLK = antenne.blocksize\n",
    "N = antenne.mems_nb\n",
    "d = antenne.interspace\n",
    "\n",
    "# Read an audio buffer\n",
    "m = antenne.read()\n",
    " \n",
    "fileName = \"1KHz_pi-sur-3\" \n",
    "np.save(fileName, m)"
   ]
  },
  {
   "cell_type": "code",
   "execution_count": null,
   "id": "2d8025ba",
   "metadata": {},
   "outputs": [],
   "source": []
  }
 ],
 "metadata": {
  "kernelspec": {
   "display_name": "Python 3 (ipykernel)",
   "language": "python",
   "name": "python3"
  },
  "language_info": {
   "codemirror_mode": {
    "name": "ipython",
    "version": 3
   },
   "file_extension": ".py",
   "mimetype": "text/x-python",
   "name": "python",
   "nbconvert_exporter": "python",
   "pygments_lexer": "ipython3",
   "version": "3.9.13"
  }
 },
 "nbformat": 4,
 "nbformat_minor": 5
}
