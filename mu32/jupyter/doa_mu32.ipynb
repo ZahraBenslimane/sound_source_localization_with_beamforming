{
 "cells": [
  {
   "cell_type": "markdown",
   "metadata": {},
   "source": [
    "# Direction of Arrival with freefield  synthesis "
   ]
  },
  {
   "cell_type": "code",
   "execution_count": 3,
   "metadata": {},
   "outputs": [],
   "source": [
    "import numpy as np\n",
    "from importlib import reload\n",
    "from matplotlib import pyplot as plt\n",
    "from mu32 import beamformer\n",
    "from mu32.core import Mu32"
   ]
  },
  {
   "cell_type": "markdown",
   "metadata": {},
   "source": [
    "## Globals"
   ]
  },
  {
   "cell_type": "code",
   "execution_count": 4,
   "metadata": {},
   "outputs": [],
   "source": [
    "n_mics = 8\n",
    "inter_mics = 0.045\n",
    "sampling_frequency = 50000\n",
    "duration = 1\n",
    "c_angle = 0\n",
    "antenna=[[0, 0, 0], n_mics, c_angle, inter_mics]"
   ]
  },
  {
   "cell_type": "markdown",
   "metadata": {},
   "source": [
    "## Init beamformer"
   ]
  },
  {
   "cell_type": "code",
   "execution_count": 5,
   "metadata": {},
   "outputs": [],
   "source": [
    "beams_number = 8\n",
    "bfwin_duration = 0.1\n",
    "G = beamformer.das_former( antenna, beams_number, sf=sampling_frequency, bfwin_duration=bfwin_duration )"
   ]
  },
  {
   "cell_type": "markdown",
   "metadata": {},
   "source": [
    "## Define the post-callback function and run"
   ]
  },
  {
   "cell_type": "code",
   "execution_count": 6,
   "metadata": {},
   "outputs": [],
   "source": [
    "def my_callback_end_function( mu32: Mu32 ):\n",
    "\n",
    "\tq_size = mu32.signal_q.qsize()\n",
    "\tif q_size== 0:\n",
    "\t\traise Exception( 'No received data !' )\n",
    "\n",
    "\tprint( f\"got {q_size} transfer buffers from {mu32.mems_number} microphones\" )\t\n",
    "\n",
    "\t\"\"\"\n",
    "\tget queued signals from Mu32\n",
    "\t\"\"\"\n",
    "\tsignal = []\n",
    "\tfor _ in range( q_size ):\n",
    "\t\tsignal = np.append( signal, mu32.signal_q.get( block=False ) )\n",
    "\n",
    "\tsignal = signal.reshape( mu32.buffer_length * q_size, mu32.mems_number )/0x7fffff\n",
    "\tpowers, beams_number = beamformer.das_doa( G, signal.T, sf=sampling_frequency, bfwin_duration=bfwin_duration )\n",
    "\n",
    "\t\"\"\"\n",
    "\tplot the first frame power on every channels\n",
    "\t\"\"\"\n",
    "\tplt.bar( np.array( range(beams_number) ), powers[:,0] )\n",
    "\n"
   ]
  },
  {
   "cell_type": "code",
   "execution_count": 7,
   "metadata": {},
   "outputs": [
    {
     "name": "stdout",
     "output_type": "stream",
     "text": [
      "got 106 transfer buffers from 8 microphones\n"
     ]
    },
    {
     "data": {
      "image/png": "[encoded data removed]",
      "text/plain": [
       "<Figure size 432x288 with 1 Axes>"
      ]
     },
     "metadata": {
      "needs_background": "light"
     },
     "output_type": "display_data"
    }
   ],
   "source": [
    "try:\n",
    "\tmu32 = Mu32()\n",
    "\tmu32.run( \n",
    "\t\tpost_callback_fn=my_callback_end_function, \t# the user defined data processing function\n",
    "\t\tmems=(0, 1, 2, 3, 4, 5, 6, 7),\t\t\t\t# activated mems\t\n",
    "\t\tduration = 1\t\t\n",
    "\t)\n",
    "except:\n",
    "\tprint( 'aborting' )"
   ]
  }
 ],
 "metadata": {
  "interpreter": {
   "hash": "a4b5f9963ff24ce9059a96ace92db41a990a33670a20efccac942dd567cd2fdf"
  },
  "kernelspec": {
   "display_name": "Python 3.9.10 ('venv': venv)",
   "language": "python",
   "name": "python3"
  },
  "language_info": {
   "codemirror_mode": {
    "name": "ipython",
    "version": 3
   },
   "file_extension": ".py",
   "mimetype": "text/x-python",
   "name": "python",
   "nbconvert_exporter": "python",
   "pygments_lexer": "ipython3",
   "version": "3.10.1"
  },
  "orig_nbformat": 4
 },
 "nbformat": 4,
 "nbformat_minor": 2
}
